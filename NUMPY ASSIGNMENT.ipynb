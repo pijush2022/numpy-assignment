{
 "cells": [
  {
   "cell_type": "markdown",
   "id": "61b98aa1",
   "metadata": {},
   "source": [
    "# creating a matrix with output columns based on input vector(N)"
   ]
  },
  {
   "cell_type": "code",
   "execution_count": 4,
   "id": "8bbbaca7",
   "metadata": {},
   "outputs": [
    {
     "name": "stdout",
     "output_type": "stream",
     "text": [
      "[[   10000     1000      100       10        1]\n",
      " [  160000     8000      400       20        1]\n",
      " [  810000    27000      900       30        1]\n",
      " [ 2560000    64000     1600       40        1]\n",
      " [12960000   216000     3600       60        1]]\n"
     ]
    }
   ],
   "source": [
    "import numpy as np\n",
    "x=np.array([10,20,30,40,60])\n",
    "N=5\n",
    "matrix = np.column_stack([x**(N-i-1) for i in range(N)])\n",
    "print(matrix)"
   ]
  },
  {
   "cell_type": "markdown",
   "id": "782be368",
   "metadata": {},
   "source": [
    "# Similar matrix is created using np.vander function in numpy"
   ]
  },
  {
   "cell_type": "code",
   "execution_count": 5,
   "id": "d8eb7c39",
   "metadata": {},
   "outputs": [
    {
     "name": "stdout",
     "output_type": "stream",
     "text": [
      "[[   10000     1000      100       10        1]\n",
      " [  160000     8000      400       20        1]\n",
      " [  810000    27000      900       30        1]\n",
      " [ 2560000    64000     1600       40        1]\n",
      " [12960000   216000     3600       60        1]]\n"
     ]
    }
   ],
   "source": [
    "x=np.array([10,20,30,40,60])\n",
    "N=5\n",
    "matrix1 = np.vander(x,N,increasing=False)\n",
    "print(matrix1)"
   ]
  },
  {
   "cell_type": "markdown",
   "id": "81eb40e6",
   "metadata": {},
   "source": [
    "# The determitant for both the matrixs is the same"
   ]
  },
  {
   "cell_type": "code",
   "execution_count": 6,
   "id": "19f7f16a",
   "metadata": {},
   "outputs": [
    {
     "data": {
      "text/plain": [
       "14400000000000.164"
      ]
     },
     "execution_count": 6,
     "metadata": {},
     "output_type": "execute_result"
    }
   ],
   "source": [
    "np.linalg.det(matrix)"
   ]
  },
  {
   "cell_type": "code",
   "execution_count": 7,
   "id": "52ca500a",
   "metadata": {},
   "outputs": [
    {
     "data": {
      "text/plain": [
       "14400000000000.164"
      ]
     },
     "execution_count": 7,
     "metadata": {},
     "output_type": "execute_result"
    }
   ],
   "source": [
    "np.linalg.det(matrix1)\n"
   ]
  },
  {
   "cell_type": "code",
   "execution_count": null,
   "id": "6937c895",
   "metadata": {},
   "outputs": [],
   "source": []
  }
 ],
 "metadata": {
  "kernelspec": {
   "display_name": "Python 3 (ipykernel)",
   "language": "python",
   "name": "python3"
  },
  "language_info": {
   "codemirror_mode": {
    "name": "ipython",
    "version": 3
   },
   "file_extension": ".py",
   "mimetype": "text/x-python",
   "name": "python",
   "nbconvert_exporter": "python",
   "pygments_lexer": "ipython3",
   "version": "3.9.12"
  }
 },
 "nbformat": 4,
 "nbformat_minor": 5
}
